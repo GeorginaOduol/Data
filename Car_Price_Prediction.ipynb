{
 "cells": [
  {
   "cell_type": "code",
   "execution_count": 1,
   "id": "ef7b8a04",
   "metadata": {},
   "outputs": [],
   "source": [
    "#import necessary libraries\n",
    "\n",
    "import pandas as pd"
   ]
  },
  {
   "cell_type": "code",
   "execution_count": 3,
   "id": "e2b3214a",
   "metadata": {},
   "outputs": [],
   "source": [
    "#Load the car dataset\n",
    "\n",
    "car_data = pd.read_csv('cars_data.csv')"
   ]
  },
  {
   "cell_type": "code",
   "execution_count": 6,
   "id": "5e3b318e",
   "metadata": {},
   "outputs": [
    {
     "name": "stdout",
     "output_type": "stream",
     "text": [
      "   car_ID  symboling  CompanyName fueltype aspiration doornumber      carbody  \\\n",
      "0       1          3  alfa-romero      gas        std        two  convertible   \n",
      "1       2          3  alfa-romero      gas        std        two  convertible   \n",
      "2       3          1  alfa-romero      gas        std        two    hatchback   \n",
      "3       4          2         audi      gas        std       four        sedan   \n",
      "4       5          2         audi      gas        std       four        sedan   \n",
      "\n",
      "  drivewheel enginelocation  wheelbase  ...  enginesize  fuelsystem  \\\n",
      "0        rwd          front       88.6  ...         130        mpfi   \n",
      "1        rwd          front       88.6  ...         130        mpfi   \n",
      "2        rwd          front       94.5  ...         152        mpfi   \n",
      "3        fwd          front       99.8  ...         109        mpfi   \n",
      "4        4wd          front       99.4  ...         136        mpfi   \n",
      "\n",
      "   boreratio  stroke compressionratio horsepower  peakrpm citympg  highwaympg  \\\n",
      "0       3.47    2.68              9.0        111     5000      21          27   \n",
      "1       3.47    2.68              9.0        111     5000      21          27   \n",
      "2       2.68    3.47              9.0        154     5000      19          26   \n",
      "3       3.19    3.40             10.0        102     5500      24          30   \n",
      "4       3.19    3.40              8.0        115     5500      18          22   \n",
      "\n",
      "     price  \n",
      "0  13495.0  \n",
      "1  16500.0  \n",
      "2  16500.0  \n",
      "3  13950.0  \n",
      "4  17450.0  \n",
      "\n",
      "[5 rows x 26 columns]\n"
     ]
    }
   ],
   "source": [
    "#Display the first few rows of the dataset to understand its structure \n",
    "\n",
    "print(car_data.head())"
   ]
  },
  {
   "cell_type": "code",
   "execution_count": null,
   "id": "408a5b76",
   "metadata": {},
   "outputs": [],
   "source": [
    "#Calculate correlation matrix\n",
    "\n",
    "car_data.corr()"
   ]
  },
  {
   "cell_type": "code",
   "execution_count": 10,
   "id": "0eb45735",
   "metadata": {},
   "outputs": [],
   "source": [
    "#for simplicity, let's assume 'horsepower' and 'enginesize' are predictor features\n",
    "\n",
    "X = car_data[['horsepower','enginesize']]\n",
    "y = car_data['price']"
   ]
  },
  {
   "cell_type": "code",
   "execution_count": 11,
   "id": "c0adb6ea",
   "metadata": {},
   "outputs": [
    {
     "data": {
      "text/html": [
       "<div>\n",
       "<style scoped>\n",
       "    .dataframe tbody tr th:only-of-type {\n",
       "        vertical-align: middle;\n",
       "    }\n",
       "\n",
       "    .dataframe tbody tr th {\n",
       "        vertical-align: top;\n",
       "    }\n",
       "\n",
       "    .dataframe thead th {\n",
       "        text-align: right;\n",
       "    }\n",
       "</style>\n",
       "<table border=\"1\" class=\"dataframe\">\n",
       "  <thead>\n",
       "    <tr style=\"text-align: right;\">\n",
       "      <th></th>\n",
       "      <th>horsepower</th>\n",
       "      <th>enginesize</th>\n",
       "    </tr>\n",
       "  </thead>\n",
       "  <tbody>\n",
       "    <tr>\n",
       "      <th>0</th>\n",
       "      <td>111</td>\n",
       "      <td>130</td>\n",
       "    </tr>\n",
       "    <tr>\n",
       "      <th>1</th>\n",
       "      <td>111</td>\n",
       "      <td>130</td>\n",
       "    </tr>\n",
       "    <tr>\n",
       "      <th>2</th>\n",
       "      <td>154</td>\n",
       "      <td>152</td>\n",
       "    </tr>\n",
       "    <tr>\n",
       "      <th>3</th>\n",
       "      <td>102</td>\n",
       "      <td>109</td>\n",
       "    </tr>\n",
       "    <tr>\n",
       "      <th>4</th>\n",
       "      <td>115</td>\n",
       "      <td>136</td>\n",
       "    </tr>\n",
       "    <tr>\n",
       "      <th>...</th>\n",
       "      <td>...</td>\n",
       "      <td>...</td>\n",
       "    </tr>\n",
       "    <tr>\n",
       "      <th>200</th>\n",
       "      <td>114</td>\n",
       "      <td>141</td>\n",
       "    </tr>\n",
       "    <tr>\n",
       "      <th>201</th>\n",
       "      <td>160</td>\n",
       "      <td>141</td>\n",
       "    </tr>\n",
       "    <tr>\n",
       "      <th>202</th>\n",
       "      <td>134</td>\n",
       "      <td>173</td>\n",
       "    </tr>\n",
       "    <tr>\n",
       "      <th>203</th>\n",
       "      <td>106</td>\n",
       "      <td>145</td>\n",
       "    </tr>\n",
       "    <tr>\n",
       "      <th>204</th>\n",
       "      <td>114</td>\n",
       "      <td>141</td>\n",
       "    </tr>\n",
       "  </tbody>\n",
       "</table>\n",
       "<p>205 rows × 2 columns</p>\n",
       "</div>"
      ],
      "text/plain": [
       "     horsepower  enginesize\n",
       "0           111         130\n",
       "1           111         130\n",
       "2           154         152\n",
       "3           102         109\n",
       "4           115         136\n",
       "..          ...         ...\n",
       "200         114         141\n",
       "201         160         141\n",
       "202         134         173\n",
       "203         106         145\n",
       "204         114         141\n",
       "\n",
       "[205 rows x 2 columns]"
      ]
     },
     "execution_count": 11,
     "metadata": {},
     "output_type": "execute_result"
    }
   ],
   "source": [
    "X"
   ]
  },
  {
   "cell_type": "code",
   "execution_count": 12,
   "id": "c7c3afff",
   "metadata": {},
   "outputs": [
    {
     "data": {
      "text/plain": [
       "0      13495.0\n",
       "1      16500.0\n",
       "2      16500.0\n",
       "3      13950.0\n",
       "4      17450.0\n",
       "        ...   \n",
       "200    16845.0\n",
       "201    19045.0\n",
       "202    21485.0\n",
       "203    22470.0\n",
       "204    22625.0\n",
       "Name: price, Length: 205, dtype: float64"
      ]
     },
     "execution_count": 12,
     "metadata": {},
     "output_type": "execute_result"
    }
   ],
   "source": [
    "y"
   ]
  },
  {
   "cell_type": "code",
   "execution_count": 15,
   "id": "3e0a2645",
   "metadata": {},
   "outputs": [],
   "source": [
    "# Split the data into training and testing sets\n",
    "\n",
    "from sklearn.model_selection import train_test_split\n",
    "\n",
    "X_train, X_test, y_train, y_test = train_test_split(X, y, test_size=0.2, random_state=42)"
   ]
  },
  {
   "cell_type": "code",
   "execution_count": 38,
   "id": "f9481590",
   "metadata": {},
   "outputs": [
    {
     "data": {
      "text/plain": [
       "[     horsepower  enginesize\n",
       " 66           72         134\n",
       " 111          95         120\n",
       " 153          62          92\n",
       " 96           69          97\n",
       " 38           86         110\n",
       " ..          ...         ...\n",
       " 106         160         181\n",
       " 14          121         164\n",
       " 92           69          97\n",
       " 179         161         171\n",
       " 102         152         181\n",
       " \n",
       " [164 rows x 2 columns],\n",
       "      horsepower  enginesize\n",
       " 15          182         209\n",
       " 9           160         131\n",
       " 100          97         120\n",
       " 132         110         121\n",
       " 68          123         183\n",
       " 95           69          97\n",
       " 159          56         110\n",
       " 162          70          98\n",
       " 147          94         108\n",
       " 182          52          97\n",
       " 191         110         136\n",
       " 164          70          98\n",
       " 65          120         140\n",
       " 175          92         122\n",
       " 73          184         308\n",
       " 152          62          92\n",
       " 18           48          61\n",
       " 82          145         156\n",
       " 86           88         122\n",
       " 143          94         108\n",
       " 60           84         122\n",
       " 101         152         181\n",
       " 98           69          97\n",
       " 30           58          92\n",
       " 25           68          90\n",
       " 16          182         209\n",
       " 168         116         146\n",
       " 195         114         141\n",
       " 97           69          97\n",
       " 194         114         141\n",
       " 67          123         183\n",
       " 120          68          90\n",
       " 154          62          92\n",
       " 202         134         173\n",
       " 79          102          98\n",
       " 69          123         183\n",
       " 145         111         108\n",
       " 55          101          70\n",
       " 45           70          90\n",
       " 84          145         156\n",
       " 146          82         108,\n",
       " 66     18344.0\n",
       " 111    15580.0\n",
       " 153     6918.0\n",
       " 96      7499.0\n",
       " 38      9095.0\n",
       "         ...   \n",
       " 106    18399.0\n",
       " 14     24565.0\n",
       " 92      6849.0\n",
       " 179    15998.0\n",
       " 102    14399.0\n",
       " Name: price, Length: 164, dtype: float64,\n",
       " 15     30760.000\n",
       " 9      17859.167\n",
       " 100     9549.000\n",
       " 132    11850.000\n",
       " 68     28248.000\n",
       " 95      7799.000\n",
       " 159     7788.000\n",
       " 162     9258.000\n",
       " 147    10198.000\n",
       " 182     7775.000\n",
       " 191    13295.000\n",
       " 164     8238.000\n",
       " 65     18280.000\n",
       " 175     9988.000\n",
       " 73     40960.000\n",
       " 152     6488.000\n",
       " 18      5151.000\n",
       " 82     12629.000\n",
       " 86      8189.000\n",
       " 143     9960.000\n",
       " 60      8495.000\n",
       " 101    13499.000\n",
       " 98      8249.000\n",
       " 30      6479.000\n",
       " 25      6692.000\n",
       " 16     41315.000\n",
       " 168     9639.000\n",
       " 195    13415.000\n",
       " 97      7999.000\n",
       " 194    12940.000\n",
       " 67     25552.000\n",
       " 120     6229.000\n",
       " 154     7898.000\n",
       " 202    21485.000\n",
       " 79      7689.000\n",
       " 69     28176.000\n",
       " 145    11259.000\n",
       " 55     10945.000\n",
       " 45      8916.500\n",
       " 84     14489.000\n",
       " 146     7463.000\n",
       " Name: price, dtype: float64]"
      ]
     },
     "execution_count": 38,
     "metadata": {},
     "output_type": "execute_result"
    }
   ],
   "source": [
    "train_test_split(X, y, test_size=0.2, random_state=42)"
   ]
  },
  {
   "cell_type": "code",
   "execution_count": 19,
   "id": "7ee73b29",
   "metadata": {},
   "outputs": [],
   "source": [
    "#initialize K-Nearest Neighbors Model with k=5\n",
    "\n",
    "from sklearn.neighbors import KNeighborsRegressor\n",
    "\n",
    "knn_model = KNeighborsRegressor(n_neighbors = 5)"
   ]
  },
  {
   "cell_type": "code",
   "execution_count": 22,
   "id": "66552d1d",
   "metadata": {},
   "outputs": [
    {
     "data": {
      "text/html": [
       "<style>#sk-container-id-4 {color: black;background-color: white;}#sk-container-id-4 pre{padding: 0;}#sk-container-id-4 div.sk-toggleable {background-color: white;}#sk-container-id-4 label.sk-toggleable__label {cursor: pointer;display: block;width: 100%;margin-bottom: 0;padding: 0.3em;box-sizing: border-box;text-align: center;}#sk-container-id-4 label.sk-toggleable__label-arrow:before {content: \"▸\";float: left;margin-right: 0.25em;color: #696969;}#sk-container-id-4 label.sk-toggleable__label-arrow:hover:before {color: black;}#sk-container-id-4 div.sk-estimator:hover label.sk-toggleable__label-arrow:before {color: black;}#sk-container-id-4 div.sk-toggleable__content {max-height: 0;max-width: 0;overflow: hidden;text-align: left;background-color: #f0f8ff;}#sk-container-id-4 div.sk-toggleable__content pre {margin: 0.2em;color: black;border-radius: 0.25em;background-color: #f0f8ff;}#sk-container-id-4 input.sk-toggleable__control:checked~div.sk-toggleable__content {max-height: 200px;max-width: 100%;overflow: auto;}#sk-container-id-4 input.sk-toggleable__control:checked~label.sk-toggleable__label-arrow:before {content: \"▾\";}#sk-container-id-4 div.sk-estimator input.sk-toggleable__control:checked~label.sk-toggleable__label {background-color: #d4ebff;}#sk-container-id-4 div.sk-label input.sk-toggleable__control:checked~label.sk-toggleable__label {background-color: #d4ebff;}#sk-container-id-4 input.sk-hidden--visually {border: 0;clip: rect(1px 1px 1px 1px);clip: rect(1px, 1px, 1px, 1px);height: 1px;margin: -1px;overflow: hidden;padding: 0;position: absolute;width: 1px;}#sk-container-id-4 div.sk-estimator {font-family: monospace;background-color: #f0f8ff;border: 1px dotted black;border-radius: 0.25em;box-sizing: border-box;margin-bottom: 0.5em;}#sk-container-id-4 div.sk-estimator:hover {background-color: #d4ebff;}#sk-container-id-4 div.sk-parallel-item::after {content: \"\";width: 100%;border-bottom: 1px solid gray;flex-grow: 1;}#sk-container-id-4 div.sk-label:hover label.sk-toggleable__label {background-color: #d4ebff;}#sk-container-id-4 div.sk-serial::before {content: \"\";position: absolute;border-left: 1px solid gray;box-sizing: border-box;top: 0;bottom: 0;left: 50%;z-index: 0;}#sk-container-id-4 div.sk-serial {display: flex;flex-direction: column;align-items: center;background-color: white;padding-right: 0.2em;padding-left: 0.2em;position: relative;}#sk-container-id-4 div.sk-item {position: relative;z-index: 1;}#sk-container-id-4 div.sk-parallel {display: flex;align-items: stretch;justify-content: center;background-color: white;position: relative;}#sk-container-id-4 div.sk-item::before, #sk-container-id-4 div.sk-parallel-item::before {content: \"\";position: absolute;border-left: 1px solid gray;box-sizing: border-box;top: 0;bottom: 0;left: 50%;z-index: -1;}#sk-container-id-4 div.sk-parallel-item {display: flex;flex-direction: column;z-index: 1;position: relative;background-color: white;}#sk-container-id-4 div.sk-parallel-item:first-child::after {align-self: flex-end;width: 50%;}#sk-container-id-4 div.sk-parallel-item:last-child::after {align-self: flex-start;width: 50%;}#sk-container-id-4 div.sk-parallel-item:only-child::after {width: 0;}#sk-container-id-4 div.sk-dashed-wrapped {border: 1px dashed gray;margin: 0 0.4em 0.5em 0.4em;box-sizing: border-box;padding-bottom: 0.4em;background-color: white;}#sk-container-id-4 div.sk-label label {font-family: monospace;font-weight: bold;display: inline-block;line-height: 1.2em;}#sk-container-id-4 div.sk-label-container {text-align: center;}#sk-container-id-4 div.sk-container {/* jupyter's `normalize.less` sets `[hidden] { display: none; }` but bootstrap.min.css set `[hidden] { display: none !important; }` so we also need the `!important` here to be able to override the default hidden behavior on the sphinx rendered scikit-learn.org. See: https://github.com/scikit-learn/scikit-learn/issues/21755 */display: inline-block !important;position: relative;}#sk-container-id-4 div.sk-text-repr-fallback {display: none;}</style><div id=\"sk-container-id-4\" class=\"sk-top-container\"><div class=\"sk-text-repr-fallback\"><pre>KNeighborsRegressor()</pre><b>In a Jupyter environment, please rerun this cell to show the HTML representation or trust the notebook. <br />On GitHub, the HTML representation is unable to render, please try loading this page with nbviewer.org.</b></div><div class=\"sk-container\" hidden><div class=\"sk-item\"><div class=\"sk-estimator sk-toggleable\"><input class=\"sk-toggleable__control sk-hidden--visually\" id=\"sk-estimator-id-4\" type=\"checkbox\" checked><label for=\"sk-estimator-id-4\" class=\"sk-toggleable__label sk-toggleable__label-arrow\">KNeighborsRegressor</label><div class=\"sk-toggleable__content\"><pre>KNeighborsRegressor()</pre></div></div></div></div></div>"
      ],
      "text/plain": [
       "KNeighborsRegressor()"
      ]
     },
     "execution_count": 22,
     "metadata": {},
     "output_type": "execute_result"
    }
   ],
   "source": [
    "# Train the model\n",
    "\n",
    "knn_model.fit(X_train, y_train)"
   ]
  },
  {
   "cell_type": "code",
   "execution_count": 25,
   "id": "8e1d0288",
   "metadata": {},
   "outputs": [],
   "source": [
    "#make predictions on the test set\n",
    "\n",
    "y_pred = knn_model.predict(X_test)"
   ]
  },
  {
   "cell_type": "code",
   "execution_count": 34,
   "id": "3dbf3d25",
   "metadata": {},
   "outputs": [
    {
     "data": {
      "text/plain": [
       "array([32032.6, 18637. , 13322.8, 14543. , 22527.8,  6782.8,  8279.2,\n",
       "        7658. , 10841. ,  7227.6, 16565. ,  7658. , 17884. , 12673.8,\n",
       "       36488. ,  6714.2,  6556.2, 15823. ,  8875.6, 10841. ,  9885.8,\n",
       "       15837.2,  6782.8,  7075.4,  6495.8, 32032.6, 11771. , 17884. ,\n",
       "        6782.8, 17884. , 22527.8,  6495.8,  6714.2, 22527.8,  8661.6,\n",
       "       22527.8, 10832.2,  9992.4,  6878.5, 15823. ,  8024.4])"
      ]
     },
     "execution_count": 34,
     "metadata": {},
     "output_type": "execute_result"
    }
   ],
   "source": [
    "y_pred"
   ]
  },
  {
   "cell_type": "code",
   "execution_count": 39,
   "id": "a879c5f8",
   "metadata": {},
   "outputs": [
    {
     "data": {
      "text/html": [
       "<div>\n",
       "<style scoped>\n",
       "    .dataframe tbody tr th:only-of-type {\n",
       "        vertical-align: middle;\n",
       "    }\n",
       "\n",
       "    .dataframe tbody tr th {\n",
       "        vertical-align: top;\n",
       "    }\n",
       "\n",
       "    .dataframe thead th {\n",
       "        text-align: right;\n",
       "    }\n",
       "</style>\n",
       "<table border=\"1\" class=\"dataframe\">\n",
       "  <thead>\n",
       "    <tr style=\"text-align: right;\">\n",
       "      <th></th>\n",
       "      <th>horsepower</th>\n",
       "      <th>enginesize</th>\n",
       "    </tr>\n",
       "  </thead>\n",
       "  <tbody>\n",
       "    <tr>\n",
       "      <th>15</th>\n",
       "      <td>182</td>\n",
       "      <td>209</td>\n",
       "    </tr>\n",
       "    <tr>\n",
       "      <th>9</th>\n",
       "      <td>160</td>\n",
       "      <td>131</td>\n",
       "    </tr>\n",
       "    <tr>\n",
       "      <th>100</th>\n",
       "      <td>97</td>\n",
       "      <td>120</td>\n",
       "    </tr>\n",
       "    <tr>\n",
       "      <th>132</th>\n",
       "      <td>110</td>\n",
       "      <td>121</td>\n",
       "    </tr>\n",
       "    <tr>\n",
       "      <th>68</th>\n",
       "      <td>123</td>\n",
       "      <td>183</td>\n",
       "    </tr>\n",
       "    <tr>\n",
       "      <th>95</th>\n",
       "      <td>69</td>\n",
       "      <td>97</td>\n",
       "    </tr>\n",
       "    <tr>\n",
       "      <th>159</th>\n",
       "      <td>56</td>\n",
       "      <td>110</td>\n",
       "    </tr>\n",
       "    <tr>\n",
       "      <th>162</th>\n",
       "      <td>70</td>\n",
       "      <td>98</td>\n",
       "    </tr>\n",
       "    <tr>\n",
       "      <th>147</th>\n",
       "      <td>94</td>\n",
       "      <td>108</td>\n",
       "    </tr>\n",
       "    <tr>\n",
       "      <th>182</th>\n",
       "      <td>52</td>\n",
       "      <td>97</td>\n",
       "    </tr>\n",
       "    <tr>\n",
       "      <th>191</th>\n",
       "      <td>110</td>\n",
       "      <td>136</td>\n",
       "    </tr>\n",
       "    <tr>\n",
       "      <th>164</th>\n",
       "      <td>70</td>\n",
       "      <td>98</td>\n",
       "    </tr>\n",
       "    <tr>\n",
       "      <th>65</th>\n",
       "      <td>120</td>\n",
       "      <td>140</td>\n",
       "    </tr>\n",
       "    <tr>\n",
       "      <th>175</th>\n",
       "      <td>92</td>\n",
       "      <td>122</td>\n",
       "    </tr>\n",
       "    <tr>\n",
       "      <th>73</th>\n",
       "      <td>184</td>\n",
       "      <td>308</td>\n",
       "    </tr>\n",
       "    <tr>\n",
       "      <th>152</th>\n",
       "      <td>62</td>\n",
       "      <td>92</td>\n",
       "    </tr>\n",
       "    <tr>\n",
       "      <th>18</th>\n",
       "      <td>48</td>\n",
       "      <td>61</td>\n",
       "    </tr>\n",
       "    <tr>\n",
       "      <th>82</th>\n",
       "      <td>145</td>\n",
       "      <td>156</td>\n",
       "    </tr>\n",
       "    <tr>\n",
       "      <th>86</th>\n",
       "      <td>88</td>\n",
       "      <td>122</td>\n",
       "    </tr>\n",
       "    <tr>\n",
       "      <th>143</th>\n",
       "      <td>94</td>\n",
       "      <td>108</td>\n",
       "    </tr>\n",
       "    <tr>\n",
       "      <th>60</th>\n",
       "      <td>84</td>\n",
       "      <td>122</td>\n",
       "    </tr>\n",
       "    <tr>\n",
       "      <th>101</th>\n",
       "      <td>152</td>\n",
       "      <td>181</td>\n",
       "    </tr>\n",
       "    <tr>\n",
       "      <th>98</th>\n",
       "      <td>69</td>\n",
       "      <td>97</td>\n",
       "    </tr>\n",
       "    <tr>\n",
       "      <th>30</th>\n",
       "      <td>58</td>\n",
       "      <td>92</td>\n",
       "    </tr>\n",
       "    <tr>\n",
       "      <th>25</th>\n",
       "      <td>68</td>\n",
       "      <td>90</td>\n",
       "    </tr>\n",
       "    <tr>\n",
       "      <th>16</th>\n",
       "      <td>182</td>\n",
       "      <td>209</td>\n",
       "    </tr>\n",
       "    <tr>\n",
       "      <th>168</th>\n",
       "      <td>116</td>\n",
       "      <td>146</td>\n",
       "    </tr>\n",
       "    <tr>\n",
       "      <th>195</th>\n",
       "      <td>114</td>\n",
       "      <td>141</td>\n",
       "    </tr>\n",
       "    <tr>\n",
       "      <th>97</th>\n",
       "      <td>69</td>\n",
       "      <td>97</td>\n",
       "    </tr>\n",
       "    <tr>\n",
       "      <th>194</th>\n",
       "      <td>114</td>\n",
       "      <td>141</td>\n",
       "    </tr>\n",
       "    <tr>\n",
       "      <th>67</th>\n",
       "      <td>123</td>\n",
       "      <td>183</td>\n",
       "    </tr>\n",
       "    <tr>\n",
       "      <th>120</th>\n",
       "      <td>68</td>\n",
       "      <td>90</td>\n",
       "    </tr>\n",
       "    <tr>\n",
       "      <th>154</th>\n",
       "      <td>62</td>\n",
       "      <td>92</td>\n",
       "    </tr>\n",
       "    <tr>\n",
       "      <th>202</th>\n",
       "      <td>134</td>\n",
       "      <td>173</td>\n",
       "    </tr>\n",
       "    <tr>\n",
       "      <th>79</th>\n",
       "      <td>102</td>\n",
       "      <td>98</td>\n",
       "    </tr>\n",
       "    <tr>\n",
       "      <th>69</th>\n",
       "      <td>123</td>\n",
       "      <td>183</td>\n",
       "    </tr>\n",
       "    <tr>\n",
       "      <th>145</th>\n",
       "      <td>111</td>\n",
       "      <td>108</td>\n",
       "    </tr>\n",
       "    <tr>\n",
       "      <th>55</th>\n",
       "      <td>101</td>\n",
       "      <td>70</td>\n",
       "    </tr>\n",
       "    <tr>\n",
       "      <th>45</th>\n",
       "      <td>70</td>\n",
       "      <td>90</td>\n",
       "    </tr>\n",
       "    <tr>\n",
       "      <th>84</th>\n",
       "      <td>145</td>\n",
       "      <td>156</td>\n",
       "    </tr>\n",
       "    <tr>\n",
       "      <th>146</th>\n",
       "      <td>82</td>\n",
       "      <td>108</td>\n",
       "    </tr>\n",
       "  </tbody>\n",
       "</table>\n",
       "</div>"
      ],
      "text/plain": [
       "     horsepower  enginesize\n",
       "15          182         209\n",
       "9           160         131\n",
       "100          97         120\n",
       "132         110         121\n",
       "68          123         183\n",
       "95           69          97\n",
       "159          56         110\n",
       "162          70          98\n",
       "147          94         108\n",
       "182          52          97\n",
       "191         110         136\n",
       "164          70          98\n",
       "65          120         140\n",
       "175          92         122\n",
       "73          184         308\n",
       "152          62          92\n",
       "18           48          61\n",
       "82          145         156\n",
       "86           88         122\n",
       "143          94         108\n",
       "60           84         122\n",
       "101         152         181\n",
       "98           69          97\n",
       "30           58          92\n",
       "25           68          90\n",
       "16          182         209\n",
       "168         116         146\n",
       "195         114         141\n",
       "97           69          97\n",
       "194         114         141\n",
       "67          123         183\n",
       "120          68          90\n",
       "154          62          92\n",
       "202         134         173\n",
       "79          102          98\n",
       "69          123         183\n",
       "145         111         108\n",
       "55          101          70\n",
       "45           70          90\n",
       "84          145         156\n",
       "146          82         108"
      ]
     },
     "execution_count": 39,
     "metadata": {},
     "output_type": "execute_result"
    }
   ],
   "source": [
    "X_test"
   ]
  },
  {
   "cell_type": "code",
   "execution_count": 40,
   "id": "ee346de7",
   "metadata": {},
   "outputs": [
    {
     "data": {
      "text/plain": [
       "15     30760.000\n",
       "9      17859.167\n",
       "100     9549.000\n",
       "132    11850.000\n",
       "68     28248.000\n",
       "95      7799.000\n",
       "159     7788.000\n",
       "162     9258.000\n",
       "147    10198.000\n",
       "182     7775.000\n",
       "191    13295.000\n",
       "164     8238.000\n",
       "65     18280.000\n",
       "175     9988.000\n",
       "73     40960.000\n",
       "152     6488.000\n",
       "18      5151.000\n",
       "82     12629.000\n",
       "86      8189.000\n",
       "143     9960.000\n",
       "60      8495.000\n",
       "101    13499.000\n",
       "98      8249.000\n",
       "30      6479.000\n",
       "25      6692.000\n",
       "16     41315.000\n",
       "168     9639.000\n",
       "195    13415.000\n",
       "97      7999.000\n",
       "194    12940.000\n",
       "67     25552.000\n",
       "120     6229.000\n",
       "154     7898.000\n",
       "202    21485.000\n",
       "79      7689.000\n",
       "69     28176.000\n",
       "145    11259.000\n",
       "55     10945.000\n",
       "45      8916.500\n",
       "84     14489.000\n",
       "146     7463.000\n",
       "Name: price, dtype: float64"
      ]
     },
     "execution_count": 40,
     "metadata": {},
     "output_type": "execute_result"
    }
   ],
   "source": [
    "y_test"
   ]
  },
  {
   "cell_type": "code",
   "execution_count": 36,
   "id": "16e98b13",
   "metadata": {},
   "outputs": [
    {
     "data": {
      "text/plain": [
       "66     18344.0\n",
       "111    15580.0\n",
       "153     6918.0\n",
       "96      7499.0\n",
       "38      9095.0\n",
       "        ...   \n",
       "106    18399.0\n",
       "14     24565.0\n",
       "92      6849.0\n",
       "179    15998.0\n",
       "102    14399.0\n",
       "Name: price, Length: 164, dtype: float64"
      ]
     },
     "execution_count": 36,
     "metadata": {},
     "output_type": "execute_result"
    }
   ],
   "source": [
    "y_train"
   ]
  },
  {
   "cell_type": "code",
   "execution_count": 31,
   "id": "ae3c3041",
   "metadata": {},
   "outputs": [],
   "source": [
    "# Evaluate the model\n",
    "\n",
    "from sklearn.metrics import mean_squared_error, r2_score\n",
    "\n",
    "mse = mean_squared_error(y_test, y_pred)\n",
    "r2 = r2_score(y_test, y_pred)\n"
   ]
  },
  {
   "cell_type": "code",
   "execution_count": 32,
   "id": "bf1a3d29",
   "metadata": {},
   "outputs": [
    {
     "data": {
      "text/plain": [
       "7592663.018924123"
      ]
     },
     "execution_count": 32,
     "metadata": {},
     "output_type": "execute_result"
    }
   ],
   "source": [
    "mse"
   ]
  },
  {
   "cell_type": "code",
   "execution_count": 33,
   "id": "32705f64",
   "metadata": {},
   "outputs": [
    {
     "data": {
      "text/plain": [
       "0.903822190277103"
      ]
     },
     "execution_count": 33,
     "metadata": {},
     "output_type": "execute_result"
    }
   ],
   "source": [
    "r2"
   ]
  },
  {
   "cell_type": "code",
   "execution_count": 46,
   "id": "0752ec3f",
   "metadata": {},
   "outputs": [
    {
     "data": {
      "text/plain": [
       "<matplotlib.legend.Legend at 0x218368f9c30>"
      ]
     },
     "execution_count": 46,
     "metadata": {},
     "output_type": "execute_result"
    },
    {
     "data": {
      "image/png": "[encoded data removed]",
      "text/plain": [
       "<Figure size 640x480 with 1 Axes>"
      ]
     },
     "metadata": {},
     "output_type": "display_data"
    }
   ],
   "source": [
    "#Visualize the predictions against actual prices \n",
    "\n",
    "import matplotlib.pyplot as plt\n",
    "\n",
    "plt.scatter(X_test['horsepower'], y_test, color='black', label='Actual Prices')\n",
    "plt.scatter(X_test['horsepower'], y_pred, color='blue', label='Predicted Prices')\n",
    "plt.xlabel('Horsepower')\n",
    "plt.ylabel('Car Price')\n",
    "plt.title('Car price prediction (K-Nearest Neighbors)')\n",
    "plt.legend()\n"
   ]
  },
  {
   "cell_type": "code",
   "execution_count": null,
   "id": "2aef091b",
   "metadata": {},
   "outputs": [],
   "source": []
  }
 ],
 "metadata": {
  "kernelspec": {
   "display_name": "Python 3 (ipykernel)",
   "language": "python",
   "name": "python3"
  },
  "language_info": {
   "codemirror_mode": {
    "name": "ipython",
    "version": 3
   },
   "file_extension": ".py",
   "mimetype": "text/x-python",
   "name": "python",
   "nbconvert_exporter": "python",
   "pygments_lexer": "ipython3",
   "version": "3.10.9"
  }
 },
 "nbformat": 4,
 "nbformat_minor": 5
}
